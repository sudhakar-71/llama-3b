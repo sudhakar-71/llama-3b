{
  "nbformat": 4,
  "nbformat_minor": 0,
  "metadata": {
    "colab": {
      "provenance": []
    },
    "kernelspec": {
      "name": "python3",
      "display_name": "Python 3"
    },
    "language_info": {
      "name": "python"
    }
  },
  "cells": [
    {
      "cell_type": "code",
      "execution_count": null,
      "metadata": {
        "id": "AfxDRjM_PHlG"
      },
      "outputs": [],
      "source": [
        "!pip install transformers\n",
        "!pip install sentencepiece\n",
        "!pip install accelerate\n",
        "!pip install safetensors\n",
        "\n",
        "\n"
      ]
    },
    {
      "cell_type": "code",
      "source": [
        "import torch\n",
        "import safetensors\n",
        "from transformers import LlamaTokenizer, LlamaForCausalLM\n",
        "\n",
        "model_path = 'openlm-research/open_llama_3b'\n",
        "# model_path = 'openlm-research/open_llama_7b'\n",
        "#model_path = 'openlm-research/open_llama_13b'\n",
        "\n",
        "tokenizer = LlamaTokenizer.from_pretrained(model_path)\n",
        "model = LlamaForCausalLM.from_pretrained(\n",
        "    model_path, torch_dtype=torch.float16, offload_folder=\"offload\",\n",
        ")"
      ],
      "metadata": {
        "id": "odvevbWsPI1m"
      },
      "execution_count": null,
      "outputs": []
    },
    {
      "cell_type": "code",
      "source": [
        "prompt = 'Q: What is the largest animal?\\nA:'\n",
        "input_ids = tokenizer(prompt, return_tensors=\"pt\").input_ids\n",
        "\n",
        "generation_output = model.generate(\n",
        "    input_ids=input_ids, max_new_tokens=32\n",
        ")\n",
        "print(tokenizer.decode(generation_output[0]))"
      ],
      "metadata": {
        "id": "8BVQ3Ms2PI-Y"
      },
      "execution_count": null,
      "outputs": []
    }
  ]
}